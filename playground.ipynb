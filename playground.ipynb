{
 "cells": [
  {
   "cell_type": "markdown",
   "id": "336dd21b",
   "metadata": {},
   "source": [
    "# Playground\n",
    "\n",
    "Para que los alumnos jueguen!"
   ]
  },
  {
   "cell_type": "code",
   "execution_count": 1,
   "id": "99572e76",
   "metadata": {},
   "outputs": [],
   "source": [
    "import skcriteria as skc"
   ]
  },
  {
   "cell_type": "code",
   "execution_count": 2,
   "id": "7b5c2752",
   "metadata": {},
   "outputs": [
    {
     "data": {
      "text/plain": [
       "'0.8'"
      ]
     },
     "execution_count": 2,
     "metadata": {},
     "output_type": "execute_result"
    }
   ],
   "source": [
    "skc.VERSION"
   ]
  },
  {
   "cell_type": "code",
   "execution_count": null,
   "id": "79d67123",
   "metadata": {},
   "outputs": [],
   "source": []
  }
 ],
 "metadata": {
  "kernelspec": {
   "display_name": "Python 3 (ipykernel)",
   "language": "python",
   "name": "python3"
  },
  "language_info": {
   "codemirror_mode": {
    "name": "ipython",
    "version": 3
   },
   "file_extension": ".py",
   "mimetype": "text/x-python",
   "name": "python",
   "nbconvert_exporter": "python",
   "pygments_lexer": "ipython3",
   "version": "3.10.6"
  }
 },
 "nbformat": 4,
 "nbformat_minor": 5
}
