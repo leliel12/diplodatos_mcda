{
 "cells": [
  {
   "cell_type": "markdown",
   "id": "336dd21b",
   "metadata": {},
   "source": [
    "# Playground\n",
    "\n",
    "Para que los alumnos jueguen!"
   ]
  },
  {
   "cell_type": "code",
   "execution_count": 46,
   "id": "99572e76",
   "metadata": {},
   "outputs": [],
   "source": [
    "import skcriteria as skc"
   ]
  },
  {
   "cell_type": "code",
   "execution_count": 47,
   "id": "7b5c2752",
   "metadata": {},
   "outputs": [
    {
     "data": {
      "text/plain": [
       "'0.8.6'"
      ]
     },
     "execution_count": 47,
     "metadata": {},
     "output_type": "execute_result"
    }
   ],
   "source": [
    "skc.VERSION"
   ]
  },
  {
   "cell_type": "code",
   "execution_count": 48,
   "id": "79d67123",
   "metadata": {},
   "outputs": [],
   "source": [
    "from  skcriteria.preprocessing import impute"
   ]
  },
  {
   "cell_type": "code",
   "execution_count": 49,
   "id": "e1247255",
   "metadata": {},
   "outputs": [],
   "source": [
    "dm = skc.datasets.load_simple_stock_selection()"
   ]
  },
  {
   "cell_type": "code",
   "execution_count": 50,
   "id": "c2a8f064",
   "metadata": {},
   "outputs": [],
   "source": [
    "arr = dm.matrix.to_numpy()\n",
    "arr = arr.astype(float)"
   ]
  },
  {
   "cell_type": "code",
   "execution_count": 51,
   "id": "ff1bc601",
   "metadata": {},
   "outputs": [],
   "source": [
    "arr[1][2] = np.nan"
   ]
  },
  {
   "cell_type": "code",
   "execution_count": 52,
   "id": "6c051b0e",
   "metadata": {},
   "outputs": [
    {
     "data": {
      "text/plain": [
       "array([[ 7.,  5., 35.],\n",
       "       [ 5.,  4., nan],\n",
       "       [ 5.,  6., 28.],\n",
       "       [ 3.,  4., 36.],\n",
       "       [ 1.,  7., 30.],\n",
       "       [ 5.,  8., 30.]])"
      ]
     },
     "execution_count": 52,
     "metadata": {},
     "output_type": "execute_result"
    }
   ],
   "source": [
    "arr"
   ]
  },
  {
   "cell_type": "code",
   "execution_count": 54,
   "id": "106a8cc3",
   "metadata": {},
   "outputs": [],
   "source": [
    "skc.DecisionMatrix.copy = functools.wraps(skc.DecisionMatrix.from_mcda_data, assigned=[\"__annotations__\"])(skc.DecisionMatrix.copy)\n"
   ]
  },
  {
   "cell_type": "code",
   "execution_count": 58,
   "id": "ff27ffa2",
   "metadata": {},
   "outputs": [
    {
     "data": {
      "text/html": [
       "<div class='decisionmatrix'>\n",
       "<div>\n",
       "<style scoped>\n",
       "    .dataframe tbody tr th:only-of-type {\n",
       "        vertical-align: middle;\n",
       "    }\n",
       "\n",
       "    .dataframe tbody tr th {\n",
       "        vertical-align: top;\n",
       "    }\n",
       "\n",
       "    .dataframe thead th {\n",
       "        text-align: right;\n",
       "    }\n",
       "</style>\n",
       "<table border=\"1\" class=\"dataframe\">\n",
       "  <thead>\n",
       "    <tr style=\"text-align: right;\">\n",
       "      <th></th>\n",
       "      <th>ROE[▲ 2.0]</th>\n",
       "      <th>CAP[▲ 4.0]</th>\n",
       "      <th>RI[▼ 1.0]</th>\n",
       "    </tr>\n",
       "  </thead>\n",
       "  <tbody>\n",
       "    <tr>\n",
       "      <th>PE</th>\n",
       "      <td>7.0</td>\n",
       "      <td>5.0</td>\n",
       "      <td>35.0</td>\n",
       "    </tr>\n",
       "    <tr>\n",
       "      <th>JN</th>\n",
       "      <td>5.0</td>\n",
       "      <td>4.0</td>\n",
       "      <td>NaN</td>\n",
       "    </tr>\n",
       "    <tr>\n",
       "      <th>AA</th>\n",
       "      <td>5.0</td>\n",
       "      <td>6.0</td>\n",
       "      <td>28.0</td>\n",
       "    </tr>\n",
       "    <tr>\n",
       "      <th>FX</th>\n",
       "      <td>3.0</td>\n",
       "      <td>4.0</td>\n",
       "      <td>36.0</td>\n",
       "    </tr>\n",
       "    <tr>\n",
       "      <th>MM</th>\n",
       "      <td>1.0</td>\n",
       "      <td>7.0</td>\n",
       "      <td>30.0</td>\n",
       "    </tr>\n",
       "    <tr>\n",
       "      <th>GN</th>\n",
       "      <td>5.0</td>\n",
       "      <td>8.0</td>\n",
       "      <td>30.0</td>\n",
       "    </tr>\n",
       "  </tbody>\n",
       "</table>\n",
       "</div><em class='decisionmatrix-dim'>6 Alternatives x 3 Criteria</em>\n",
       "</div>"
      ],
      "text/plain": [
       "    ROE[▲ 2.0]  CAP[▲ 4.0]  RI[▼ 1.0]\n",
       "PE         7.0         5.0       35.0\n",
       "JN         5.0         4.0        NaN\n",
       "AA         5.0         6.0       28.0\n",
       "FX         3.0         4.0       36.0\n",
       "MM         1.0         7.0       30.0\n",
       "GN         5.0         8.0       30.0\n",
       "[6 Alternatives x 3 Criteria]"
      ]
     },
     "execution_count": 58,
     "metadata": {},
     "output_type": "execute_result"
    }
   ],
   "source": [
    "dm.copy(matrix=arr, dtypes=None)"
   ]
  },
  {
   "cell_type": "code",
   "execution_count": null,
   "id": "b7410a57",
   "metadata": {},
   "outputs": [],
   "source": [
    "def change_at(self, a=None, c=None):\n",
    "    if (a, b) == (None, None):\n",
    "        ...\n",
    "    elif \n",
    "    "
   ]
  },
  {
   "cell_type": "code",
   "execution_count": 45,
   "id": "4a468104",
   "metadata": {},
   "outputs": [
    {
     "data": {
      "text/html": [
       "<div class='decisionmatrix'>\n",
       "<div>\n",
       "<style scoped>\n",
       "    .dataframe tbody tr th:only-of-type {\n",
       "        vertical-align: middle;\n",
       "    }\n",
       "\n",
       "    .dataframe tbody tr th {\n",
       "        vertical-align: top;\n",
       "    }\n",
       "\n",
       "    .dataframe thead th {\n",
       "        text-align: right;\n",
       "    }\n",
       "</style>\n",
       "<table border=\"1\" class=\"dataframe\">\n",
       "  <thead>\n",
       "    <tr style=\"text-align: right;\">\n",
       "      <th></th>\n",
       "      <th>ROE[▲ 2.0]</th>\n",
       "      <th>CAP[▲ 4.0]</th>\n",
       "      <th>RI[▼ 1.0]</th>\n",
       "    </tr>\n",
       "  </thead>\n",
       "  <tbody>\n",
       "    <tr>\n",
       "      <th>PE</th>\n",
       "      <td>7</td>\n",
       "      <td>5</td>\n",
       "      <td>35</td>\n",
       "    </tr>\n",
       "    <tr>\n",
       "      <th>AA</th>\n",
       "      <td>5</td>\n",
       "      <td>6</td>\n",
       "      <td>28</td>\n",
       "    </tr>\n",
       "    <tr>\n",
       "      <th>FX</th>\n",
       "      <td>3</td>\n",
       "      <td>4</td>\n",
       "      <td>36</td>\n",
       "    </tr>\n",
       "    <tr>\n",
       "      <th>MM</th>\n",
       "      <td>1</td>\n",
       "      <td>7</td>\n",
       "      <td>30</td>\n",
       "    </tr>\n",
       "    <tr>\n",
       "      <th>GN</th>\n",
       "      <td>5</td>\n",
       "      <td>8</td>\n",
       "      <td>30</td>\n",
       "    </tr>\n",
       "  </tbody>\n",
       "</table>\n",
       "</div><em class='decisionmatrix-dim'>5 Alternatives x 3 Criteria</em>\n",
       "</div>"
      ],
      "text/plain": [
       "    ROE[▲ 2.0]  CAP[▲ 4.0]  RI[▼ 1.0]\n",
       "PE           7           5         35\n",
       "AA           5           6         28\n",
       "FX           3           4         36\n",
       "MM           1           7         30\n",
       "GN           5           8         30\n",
       "[5 Alternatives x 3 Criteria]"
      ]
     },
     "execution_count": 45,
     "metadata": {},
     "output_type": "execute_result"
    }
   ],
   "source": [
    "dm.loc[[True, False, True, True, True, True]]"
   ]
  },
  {
   "cell_type": "code",
   "execution_count": 34,
   "id": "eb7965e3",
   "metadata": {},
   "outputs": [],
   "source": [
    "from skcriteria.agg import simus"
   ]
  },
  {
   "cell_type": "code",
   "execution_count": 39,
   "id": "ebd6bbac",
   "metadata": {},
   "outputs": [
    {
     "data": {
      "text/html": [
       "<div class='decisionmatrix'>\n",
       "<div>\n",
       "<style scoped>\n",
       "    .dataframe tbody tr th:only-of-type {\n",
       "        vertical-align: middle;\n",
       "    }\n",
       "\n",
       "    .dataframe tbody tr th {\n",
       "        vertical-align: top;\n",
       "    }\n",
       "\n",
       "    .dataframe thead th {\n",
       "        text-align: right;\n",
       "    }\n",
       "</style>\n",
       "<table border=\"1\" class=\"dataframe\">\n",
       "  <thead>\n",
       "    <tr style=\"text-align: right;\">\n",
       "      <th></th>\n",
       "      <th>ROE[▲ 0.733217]</th>\n",
       "      <th>CAP[▲ 0.223316]</th>\n",
       "      <th>RI[▼ 0.043467]</th>\n",
       "    </tr>\n",
       "  </thead>\n",
       "  <tbody>\n",
       "    <tr>\n",
       "      <th>PE</th>\n",
       "      <td>7</td>\n",
       "      <td>5</td>\n",
       "      <td>35</td>\n",
       "    </tr>\n",
       "    <tr>\n",
       "      <th>JN</th>\n",
       "      <td>5</td>\n",
       "      <td>4</td>\n",
       "      <td>26</td>\n",
       "    </tr>\n",
       "    <tr>\n",
       "      <th>AA</th>\n",
       "      <td>5</td>\n",
       "      <td>6</td>\n",
       "      <td>28</td>\n",
       "    </tr>\n",
       "    <tr>\n",
       "      <th>FX</th>\n",
       "      <td>3</td>\n",
       "      <td>4</td>\n",
       "      <td>36</td>\n",
       "    </tr>\n",
       "    <tr>\n",
       "      <th>MM</th>\n",
       "      <td>1</td>\n",
       "      <td>7</td>\n",
       "      <td>30</td>\n",
       "    </tr>\n",
       "    <tr>\n",
       "      <th>GN</th>\n",
       "      <td>5</td>\n",
       "      <td>8</td>\n",
       "      <td>30</td>\n",
       "    </tr>\n",
       "  </tbody>\n",
       "</table>\n",
       "</div><em class='decisionmatrix-dim'>6 Alternatives x 3 Criteria</em>\n",
       "</div>"
      ],
      "text/plain": [
       "    ROE[▲ 0.733217]  CAP[▲ 0.223316]  RI[▼ 0.043467]\n",
       "PE                7                5              35\n",
       "JN                5                4              26\n",
       "AA                5                6              28\n",
       "FX                3                4              36\n",
       "MM                1                7              30\n",
       "GN                5                8              30\n",
       "[6 Alternatives x 3 Criteria]"
      ]
     },
     "execution_count": 39,
     "metadata": {},
     "output_type": "execute_result"
    }
   ],
   "source": [
    "weighters.EntropyWeighter().transform(dm)"
   ]
  }
 ],
 "metadata": {
  "kernelspec": {
   "display_name": "Python 3 (ipykernel)",
   "language": "python",
   "name": "python3"
  },
  "language_info": {
   "codemirror_mode": {
    "name": "ipython",
    "version": 3
   },
   "file_extension": ".py",
   "mimetype": "text/x-python",
   "name": "python",
   "nbconvert_exporter": "python",
   "pygments_lexer": "ipython3",
   "version": "3.10.12"
  }
 },
 "nbformat": 4,
 "nbformat_minor": 5
}
