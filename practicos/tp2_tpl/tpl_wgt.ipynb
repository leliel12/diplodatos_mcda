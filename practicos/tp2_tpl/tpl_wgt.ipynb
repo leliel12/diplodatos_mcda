{
 "cells": [
  {
   "cell_type": "markdown",
   "metadata": {
    "id": "qGdPzI-kYlfw"
   },
   "source": [
    "# Instalación de librería"
   ]
  },
  {
   "cell_type": "code",
   "execution_count": 1,
   "metadata": {
    "colab": {
     "base_uri": "https://localhost:8080/"
    },
    "id": "HEGvEzrBXtsW",
    "outputId": "58988976-8e87-403a-b8bf-bf6ec6d5e482"
   },
   "outputs": [],
   "source": [
    "#!pip install scikit-criteria"
   ]
  },
  {
   "cell_type": "markdown",
   "metadata": {
    "id": "xurpSBQ5ZEmc"
   },
   "source": [
    "# Import de librería"
   ]
  },
  {
   "cell_type": "code",
   "execution_count": 29,
   "metadata": {
    "id": "f0RFRIPTYRND"
   },
   "outputs": [],
   "source": [
    "import skcriteria as skc\n",
    "from skcriteria.preprocessing.weighters import SKCWeighterABC, CRITIC"
   ]
  },
  {
   "cell_type": "markdown",
   "metadata": {
    "id": "QffYEJovZKeK"
   },
   "source": [
    "# Definición del Weighter"
   ]
  },
  {
   "cell_type": "markdown",
   "metadata": {
    "id": "qWQ5rcSbZVT7"
   },
   "source": [
    "Basado en la bibliografía disponible en ([link](https://drive.google.com/file/d/1qCv_DXB6F75ntJVpE_RYZ6lh5WbE1EVH/view?usp=sharing)) - no compartir - y en el artículo de Wikipedia ([link](https://en.wikipedia.org/wiki/VIKOR_method))."
   ]
  },
  {
   "cell_type": "code",
   "execution_count": 30,
   "metadata": {
    "colab": {
     "base_uri": "https://localhost:8080/",
     "height": 133
    },
    "id": "Rf8eTYU3Yc8F",
    "outputId": "550804bd-d603-4d6c-86c5-cbfe40483767"
   },
   "outputs": [],
   "source": [
    "class MethodName(SKCWeighterABC):  # cambiar MethodName por el nombre del metodo\n",
    "    \n",
    "    # parametro que reciba __init__ tiene que ir aca.\n",
    "    # por ejemplo si definen asi __init__(self, v=1),\n",
    "    # _skcriteria_parameters = [\"v\"]\n",
    "    _skcriteria_parameters = []  \n",
    "    \n",
    "    def __init__(self):\n",
    "        ...\n",
    "        \n",
    "    def _weight_matrix(self, matrix, objectives, weights, **kwargs):            \n",
    "        # YOUR CODE GOES HERE\n",
    "        new_weights = [7,7,7]\n",
    "        return new_weights\n",
    "            "
   ]
  },
  {
   "cell_type": "markdown",
   "metadata": {
    "id": "34vAVEGhZNfa"
   },
   "source": [
    "# 4. Uso del Método"
   ]
  },
  {
   "cell_type": "markdown",
   "metadata": {
    "id": "ps_tlZGkgBRW"
   },
   "source": [
    "Carga del dataset multicriterio ejemplo (stocks)"
   ]
  },
  {
   "cell_type": "code",
   "execution_count": 31,
   "metadata": {
    "id": "pSU0KBfbbnvd"
   },
   "outputs": [
    {
     "data": {
      "text/html": [
       "<div class='decisionmatrix'>\n",
       "<div>\n",
       "<style scoped>\n",
       "    .dataframe tbody tr th:only-of-type {\n",
       "        vertical-align: middle;\n",
       "    }\n",
       "\n",
       "    .dataframe tbody tr th {\n",
       "        vertical-align: top;\n",
       "    }\n",
       "\n",
       "    .dataframe thead th {\n",
       "        text-align: right;\n",
       "    }\n",
       "</style>\n",
       "<table border=\"1\" class=\"dataframe\">\n",
       "  <thead>\n",
       "    <tr style=\"text-align: right;\">\n",
       "      <th></th>\n",
       "      <th>ROE[▲ 2.0]</th>\n",
       "      <th>CAP[▲ 4.0]</th>\n",
       "      <th>RI[▼ 1.0]</th>\n",
       "    </tr>\n",
       "  </thead>\n",
       "  <tbody>\n",
       "    <tr>\n",
       "      <th>PE</th>\n",
       "      <td>7</td>\n",
       "      <td>5</td>\n",
       "      <td>35</td>\n",
       "    </tr>\n",
       "    <tr>\n",
       "      <th>JN</th>\n",
       "      <td>5</td>\n",
       "      <td>4</td>\n",
       "      <td>26</td>\n",
       "    </tr>\n",
       "    <tr>\n",
       "      <th>AA</th>\n",
       "      <td>5</td>\n",
       "      <td>6</td>\n",
       "      <td>28</td>\n",
       "    </tr>\n",
       "    <tr>\n",
       "      <th>FX</th>\n",
       "      <td>3</td>\n",
       "      <td>4</td>\n",
       "      <td>36</td>\n",
       "    </tr>\n",
       "    <tr>\n",
       "      <th>MM</th>\n",
       "      <td>1</td>\n",
       "      <td>7</td>\n",
       "      <td>30</td>\n",
       "    </tr>\n",
       "    <tr>\n",
       "      <th>GN</th>\n",
       "      <td>5</td>\n",
       "      <td>8</td>\n",
       "      <td>30</td>\n",
       "    </tr>\n",
       "  </tbody>\n",
       "</table>\n",
       "</div><em class='decisionmatrix-dim'>6 Alternatives x 3 Criteria</em>\n",
       "</div>"
      ],
      "text/plain": [
       "    ROE[▲ 2.0]  CAP[▲ 4.0]  RI[▼ 1.0]\n",
       "PE           7           5         35\n",
       "JN           5           4         26\n",
       "AA           5           6         28\n",
       "FX           3           4         36\n",
       "MM           1           7         30\n",
       "GN           5           8         30\n",
       "[6 Alternatives x 3 Criteria]"
      ]
     },
     "execution_count": 31,
     "metadata": {},
     "output_type": "execute_result"
    }
   ],
   "source": [
    "dm = skc.datasets.load_simple_stock_selection()\n",
    "dm"
   ]
  },
  {
   "cell_type": "code",
   "execution_count": 32,
   "metadata": {
    "id": "y-k0Zyx9YgQY"
   },
   "outputs": [
    {
     "data": {
      "text/html": [
       "<div class='decisionmatrix'>\n",
       "<div>\n",
       "<style scoped>\n",
       "    .dataframe tbody tr th:only-of-type {\n",
       "        vertical-align: middle;\n",
       "    }\n",
       "\n",
       "    .dataframe tbody tr th {\n",
       "        vertical-align: top;\n",
       "    }\n",
       "\n",
       "    .dataframe thead th {\n",
       "        text-align: right;\n",
       "    }\n",
       "</style>\n",
       "<table border=\"1\" class=\"dataframe\">\n",
       "  <thead>\n",
       "    <tr style=\"text-align: right;\">\n",
       "      <th></th>\n",
       "      <th>ROE[▲ 7.0]</th>\n",
       "      <th>CAP[▲ 7.0]</th>\n",
       "      <th>RI[▼ 7.0]</th>\n",
       "    </tr>\n",
       "  </thead>\n",
       "  <tbody>\n",
       "    <tr>\n",
       "      <th>PE</th>\n",
       "      <td>7</td>\n",
       "      <td>5</td>\n",
       "      <td>35</td>\n",
       "    </tr>\n",
       "    <tr>\n",
       "      <th>JN</th>\n",
       "      <td>5</td>\n",
       "      <td>4</td>\n",
       "      <td>26</td>\n",
       "    </tr>\n",
       "    <tr>\n",
       "      <th>AA</th>\n",
       "      <td>5</td>\n",
       "      <td>6</td>\n",
       "      <td>28</td>\n",
       "    </tr>\n",
       "    <tr>\n",
       "      <th>FX</th>\n",
       "      <td>3</td>\n",
       "      <td>4</td>\n",
       "      <td>36</td>\n",
       "    </tr>\n",
       "    <tr>\n",
       "      <th>MM</th>\n",
       "      <td>1</td>\n",
       "      <td>7</td>\n",
       "      <td>30</td>\n",
       "    </tr>\n",
       "    <tr>\n",
       "      <th>GN</th>\n",
       "      <td>5</td>\n",
       "      <td>8</td>\n",
       "      <td>30</td>\n",
       "    </tr>\n",
       "  </tbody>\n",
       "</table>\n",
       "</div><em class='decisionmatrix-dim'>6 Alternatives x 3 Criteria</em>\n",
       "</div>"
      ],
      "text/plain": [
       "    ROE[▲ 7.0]  CAP[▲ 7.0]  RI[▼ 7.0]\n",
       "PE           7           5         35\n",
       "JN           5           4         26\n",
       "AA           5           6         28\n",
       "FX           3           4         36\n",
       "MM           1           7         30\n",
       "GN           5           8         30\n",
       "[6 Alternatives x 3 Criteria]"
      ]
     },
     "execution_count": 32,
     "metadata": {},
     "output_type": "execute_result"
    }
   ],
   "source": [
    "dmaker = MethodName()\n",
    "result = dmaker.transform(dm)\n",
    "result"
   ]
  },
  {
   "cell_type": "code",
   "execution_count": null,
   "metadata": {},
   "outputs": [],
   "source": []
  }
 ],
 "metadata": {
  "colab": {
   "provenance": []
  },
  "kernelspec": {
   "display_name": "Python 3 (ipykernel)",
   "language": "python",
   "name": "python3"
  },
  "language_info": {
   "codemirror_mode": {
    "name": "ipython",
    "version": 3
   },
   "file_extension": ".py",
   "mimetype": "text/x-python",
   "name": "python",
   "nbconvert_exporter": "python",
   "pygments_lexer": "ipython3",
   "version": "3.10.12"
  }
 },
 "nbformat": 4,
 "nbformat_minor": 1
}
