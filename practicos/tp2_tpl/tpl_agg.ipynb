{
 "cells": [
  {
   "cell_type": "markdown",
   "metadata": {
    "id": "qGdPzI-kYlfw"
   },
   "source": [
    "# Instalación de librería"
   ]
  },
  {
   "cell_type": "code",
   "execution_count": 1,
   "metadata": {
    "colab": {
     "base_uri": "https://localhost:8080/"
    },
    "id": "HEGvEzrBXtsW",
    "outputId": "58988976-8e87-403a-b8bf-bf6ec6d5e482"
   },
   "outputs": [],
   "source": [
    "#!pip install scikit-criteria"
   ]
  },
  {
   "cell_type": "markdown",
   "metadata": {
    "id": "xurpSBQ5ZEmc"
   },
   "source": [
    "# Import de librería"
   ]
  },
  {
   "cell_type": "code",
   "execution_count": 1,
   "metadata": {
    "id": "f0RFRIPTYRND"
   },
   "outputs": [],
   "source": [
    "import skcriteria as skc\n",
    "from skcriteria.agg import SKCDecisionMakerABC, RankResult\n",
    "from skcriteria.utils import rank"
   ]
  },
  {
   "cell_type": "markdown",
   "metadata": {
    "id": "QffYEJovZKeK"
   },
   "source": [
    "# Definición del metodo"
   ]
  },
  {
   "cell_type": "code",
   "execution_count": 2,
   "metadata": {
    "colab": {
     "base_uri": "https://localhost:8080/",
     "height": 133
    },
    "id": "Rf8eTYU3Yc8F",
    "outputId": "550804bd-d603-4d6c-86c5-cbfe40483767"
   },
   "outputs": [],
   "source": [
    "class MethodName(SKCDecisionMakerABC):  # cambiar MethodName por el nombre del metodo\n",
    "    \n",
    "    # parametro que reciba __init__ tiene que ir aca.\n",
    "    # por ejemplo si definen asi __init__(self, v=1),\n",
    "    # _skcriteria_parameters = [\"v\"]\n",
    "    _skcriteria_parameters = []  \n",
    "    \n",
    "    def __init__(self):\n",
    "        ...\n",
    "    \n",
    "    def  _make_result(self, alternatives, values, extra):\n",
    "        method_name = type(self).__name__\n",
    "        return RankResult(\n",
    "            method=method_name, alternatives=alternatives, \n",
    "            values=values, extra=extra)\n",
    "        \n",
    "    def _evaluate_data(self, matrix, objectives, weights, **kwargs):            \n",
    "        # YOUR CODE GOES HERE\n",
    "        rank = [1,1,1,1,1,1]\n",
    "        return rank, {}  # deven devolver un array con el ranking y un diccionario con el extra\n",
    "            "
   ]
  },
  {
   "cell_type": "markdown",
   "metadata": {
    "id": "34vAVEGhZNfa"
   },
   "source": [
    "# 4. Uso del Método"
   ]
  },
  {
   "cell_type": "markdown",
   "metadata": {
    "id": "ps_tlZGkgBRW"
   },
   "source": [
    "Carga del dataset multicriterio ejemplo (stocks)"
   ]
  },
  {
   "cell_type": "code",
   "execution_count": 3,
   "metadata": {
    "id": "pSU0KBfbbnvd"
   },
   "outputs": [
    {
     "data": {
      "text/html": [
       "<div class='decisionmatrix'>\n",
       "<div>\n",
       "<style scoped>\n",
       "    .dataframe tbody tr th:only-of-type {\n",
       "        vertical-align: middle;\n",
       "    }\n",
       "\n",
       "    .dataframe tbody tr th {\n",
       "        vertical-align: top;\n",
       "    }\n",
       "\n",
       "    .dataframe thead th {\n",
       "        text-align: right;\n",
       "    }\n",
       "</style>\n",
       "<table border=\"1\" class=\"dataframe\">\n",
       "  <thead>\n",
       "    <tr style=\"text-align: right;\">\n",
       "      <th></th>\n",
       "      <th>ROE[▲ 2.0]</th>\n",
       "      <th>CAP[▲ 4.0]</th>\n",
       "      <th>RI[▼ 1.0]</th>\n",
       "    </tr>\n",
       "  </thead>\n",
       "  <tbody>\n",
       "    <tr>\n",
       "      <th>PE</th>\n",
       "      <td>7</td>\n",
       "      <td>5</td>\n",
       "      <td>35</td>\n",
       "    </tr>\n",
       "    <tr>\n",
       "      <th>JN</th>\n",
       "      <td>5</td>\n",
       "      <td>4</td>\n",
       "      <td>26</td>\n",
       "    </tr>\n",
       "    <tr>\n",
       "      <th>AA</th>\n",
       "      <td>5</td>\n",
       "      <td>6</td>\n",
       "      <td>28</td>\n",
       "    </tr>\n",
       "    <tr>\n",
       "      <th>FX</th>\n",
       "      <td>3</td>\n",
       "      <td>4</td>\n",
       "      <td>36</td>\n",
       "    </tr>\n",
       "    <tr>\n",
       "      <th>MM</th>\n",
       "      <td>1</td>\n",
       "      <td>7</td>\n",
       "      <td>30</td>\n",
       "    </tr>\n",
       "    <tr>\n",
       "      <th>GN</th>\n",
       "      <td>5</td>\n",
       "      <td>8</td>\n",
       "      <td>30</td>\n",
       "    </tr>\n",
       "  </tbody>\n",
       "</table>\n",
       "</div><em class='decisionmatrix-dim'>6 Alternatives x 3 Criteria</em>\n",
       "</div>"
      ],
      "text/plain": [
       "    ROE[▲ 2.0]  CAP[▲ 4.0]  RI[▼ 1.0]\n",
       "PE           7           5         35\n",
       "JN           5           4         26\n",
       "AA           5           6         28\n",
       "FX           3           4         36\n",
       "MM           1           7         30\n",
       "GN           5           8         30\n",
       "[6 Alternatives x 3 Criteria]"
      ]
     },
     "execution_count": 3,
     "metadata": {},
     "output_type": "execute_result"
    }
   ],
   "source": [
    "dm = skc.datasets.load_simple_stock_selection()\n",
    "dm"
   ]
  },
  {
   "cell_type": "markdown",
   "metadata": {
    "id": "WF02kOTlgIgX"
   },
   "source": [
    "Uso de la clase Vikor para evaluación"
   ]
  },
  {
   "cell_type": "code",
   "execution_count": 4,
   "metadata": {
    "id": "y-k0Zyx9YgQY"
   },
   "outputs": [
    {
     "data": {
      "text/html": [
       "<div class='skcresult-rank skcresult'>\n",
       "<style type=\"text/css\">\n",
       "</style>\n",
       "<table id=\"T_d9a51\">\n",
       "  <thead>\n",
       "    <tr>\n",
       "      <th class=\"index_name level0\" >Alternatives</th>\n",
       "      <th id=\"T_d9a51_level0_col0\" class=\"col_heading level0 col0\" >PE</th>\n",
       "      <th id=\"T_d9a51_level0_col1\" class=\"col_heading level0 col1\" >JN</th>\n",
       "      <th id=\"T_d9a51_level0_col2\" class=\"col_heading level0 col2\" >AA</th>\n",
       "      <th id=\"T_d9a51_level0_col3\" class=\"col_heading level0 col3\" >FX</th>\n",
       "      <th id=\"T_d9a51_level0_col4\" class=\"col_heading level0 col4\" >MM</th>\n",
       "      <th id=\"T_d9a51_level0_col5\" class=\"col_heading level0 col5\" >GN</th>\n",
       "    </tr>\n",
       "  </thead>\n",
       "  <tbody>\n",
       "    <tr>\n",
       "      <th id=\"T_d9a51_level0_row0\" class=\"row_heading level0 row0\" >Rank</th>\n",
       "      <td id=\"T_d9a51_row0_col0\" class=\"data row0 col0\" >1</td>\n",
       "      <td id=\"T_d9a51_row0_col1\" class=\"data row0 col1\" >1</td>\n",
       "      <td id=\"T_d9a51_row0_col2\" class=\"data row0 col2\" >1</td>\n",
       "      <td id=\"T_d9a51_row0_col3\" class=\"data row0 col3\" >1</td>\n",
       "      <td id=\"T_d9a51_row0_col4\" class=\"data row0 col4\" >1</td>\n",
       "      <td id=\"T_d9a51_row0_col5\" class=\"data row0 col5\" >1</td>\n",
       "    </tr>\n",
       "  </tbody>\n",
       "</table>\n",
       "<em class='skcresult-method'>Method: MethodName</em>\n",
       "</div>"
      ],
      "text/plain": [
       "Alternatives  PE  JN  AA  FX  MM  GN\n",
       "Rank           1   1   1   1   1   1\n",
       "[Method: MethodName]"
      ]
     },
     "execution_count": 4,
     "metadata": {},
     "output_type": "execute_result"
    }
   ],
   "source": [
    "dmaker = MethodName()\n",
    "result = dmaker.evaluate(dm)\n",
    "result"
   ]
  },
  {
   "cell_type": "code",
   "execution_count": null,
   "metadata": {},
   "outputs": [],
   "source": []
  }
 ],
 "metadata": {
  "colab": {
   "provenance": []
  },
  "kernelspec": {
   "display_name": "Python 3 (ipykernel)",
   "language": "python",
   "name": "python3"
  },
  "language_info": {
   "codemirror_mode": {
    "name": "ipython",
    "version": 3
   },
   "file_extension": ".py",
   "mimetype": "text/x-python",
   "name": "python",
   "nbconvert_exporter": "python",
   "pygments_lexer": "ipython3",
   "version": "3.10.12"
  }
 },
 "nbformat": 4,
 "nbformat_minor": 1
}
